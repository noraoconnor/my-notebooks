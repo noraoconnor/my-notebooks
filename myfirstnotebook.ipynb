{
  "nbformat": 4,
  "nbformat_minor": 0,
  "metadata": {
    "colab": {
      "name": "myfirstnotebook.ipynb",
      "provenance": [],
      "authorship_tag": "ABX9TyOsOegddcdj10iKREii4VKH",
      "include_colab_link": true
    },
    "kernelspec": {
      "name": "python3",
      "display_name": "Python 3"
    },
    "language_info": {
      "name": "python"
    }
  },
  "cells": [
    {
      "cell_type": "markdown",
      "metadata": {
        "id": "view-in-github",
        "colab_type": "text"
      },
      "source": [
        "<a href=\"https://colab.research.google.com/github/noraoconnor/my-notebooks/blob/main/myfirstnotebook.ipynb\" target=\"_parent\"><img src=\"https://colab.research.google.com/assets/colab-badge.svg\" alt=\"Open In Colab\"/></a>"
      ]
    },
    {
      "cell_type": "markdown",
      "source": [
        "#text cell ! woot woot\n",
        "link (https://github.com/prof-rossetti/intro-to-python/blob/main/exercises/hello-world/colab.md).\n",
        "list:\n",
        "+ 1\n",
        "+ 2\n",
        "+ 3\n"
      ],
      "metadata": {
        "id": "xKYXlQc5HISQ"
      }
    },
    {
      "cell_type": "code",
      "execution_count": 10,
      "metadata": {
        "colab": {
          "base_uri": "https://localhost:8080/"
        },
        "id": "PtWY877zFN3I",
        "outputId": "6c5375d8-9700-4223-c7ea-5458e693f04d"
      },
      "outputs": [
        {
          "output_type": "stream",
          "name": "stdout",
          "text": [
            "hello world <3\n",
            "12\n",
            "im a computer and i can do math!\n"
          ]
        }
      ],
      "source": [
        "#my first notebook im writing words woooo!!\n",
        "\n",
        "print(\"hello world <3\")\n",
        "y= 7+8\n",
        "x= y-3\n",
        "print(x)\n",
        "print (\"im a computer and i can do math!\")\n",
        "\n"
      ]
    }
  ]
}